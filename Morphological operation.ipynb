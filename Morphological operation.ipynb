{
 "cells": [
  {
   "cell_type": "code",
   "execution_count": 13,
   "id": "f816b9f0",
   "metadata": {},
   "outputs": [],
   "source": [
    "import cv2 as cv\n",
    "import numpy as np"
   ]
  },
  {
   "cell_type": "markdown",
   "id": "d1c9e301",
   "metadata": {},
   "source": [
    "# Morphological operation"
   ]
  },
  {
   "cell_type": "code",
   "execution_count": 14,
   "id": "a7841d36",
   "metadata": {},
   "outputs": [],
   "source": [
    "def grayscale_to_blackwhite(img):\n",
    "    for i in range(img.shape[0]):\n",
    "        for j in range(img.shape[1]):\n",
    "            if img[i][j]>50:\n",
    "                img[i][j]=1\n",
    "            else:\n",
    "                img[i][j]=0\n",
    "    return img"
   ]
  },
  {
   "cell_type": "code",
   "execution_count": 15,
   "id": "b6b66e20",
   "metadata": {},
   "outputs": [],
   "source": [
    "#Erosion\n",
    "def erosion(img,SE):\n",
    "    SE_size=SE.shape[0]//2\n",
    "    img_temp=img.copy()\n",
    "    for i in range(SE_size,img.shape[0]-SE_size):\n",
    "        for j in range(SE_size,img.shape[1]-SE_size):\n",
    "            temp=img[i-SE_size:i+SE_size+1,j-SE_size:j+SE_size+1]\n",
    "            if not (temp == SE).all():\n",
    "                img_temp[i,j]=0\n",
    "    return img_temp"
   ]
  },
  {
   "cell_type": "code",
   "execution_count": 16,
   "id": "92e9d9dc",
   "metadata": {},
   "outputs": [
    {
     "data": {
      "text/plain": [
       "-1"
      ]
     },
     "execution_count": 16,
     "metadata": {},
     "output_type": "execute_result"
    }
   ],
   "source": [
    "img=cv.imread('abc.jpg')\n",
    "t,img=cv.threshold(img,127,255,cv.THRESH_BINARY)\n",
    "SE=np.array([[255,255,255],[255,255,255],[255,255,255]])\n",
    "new_img=erosion(img,SE)\n",
    "con=np.concatenate((img,new_img),axis=1)\n",
    "cv.imshow(\"eroded\",con)\n",
    "cv.waitKey(0)"
   ]
  },
  {
   "cell_type": "code",
   "execution_count": 17,
   "id": "5d0e6c0f",
   "metadata": {},
   "outputs": [],
   "source": [
    "#Dilation\n",
    "def dil(img,SE):\n",
    "    SE_size=SE.shape[0]//2\n",
    "    img_temp=img.copy()\n",
    "    for i in range(SE_size,img.shape[0]-SE_size):\n",
    "        for j in range(SE_size,img.shape[1]-SE_size):\n",
    "            temp=img[i-SE_size:i+SE_size+1,j-SE_size:j+SE_size+1]\n",
    "            if not (temp == SE).any():\n",
    "                img_temp[i,j]=0\n",
    "            else:\n",
    "                img_temp[i,j]=255\n",
    "    return img_temp"
   ]
  },
  {
   "cell_type": "code",
   "execution_count": 18,
   "id": "576ec17f",
   "metadata": {},
   "outputs": [
    {
     "data": {
      "text/plain": [
       "-1"
      ]
     },
     "execution_count": 18,
     "metadata": {},
     "output_type": "execute_result"
    }
   ],
   "source": [
    "img=cv.imread('abc.jpg')\n",
    "t,img=cv.threshold(img,127,255,cv.THRESH_BINARY)\n",
    "SE=np.array([[255,255,255],[255,255,255],[255,255,255]])\n",
    "new_img=dil(img,SE)\n",
    "con=np.concatenate((img,new_img),axis=1)\n",
    "cv.imshow(\"dilation\",con)\n",
    "cv.waitKey(0)"
   ]
  },
  {
   "cell_type": "code",
   "execution_count": 25,
   "id": "bb589b53",
   "metadata": {},
   "outputs": [],
   "source": [
    "#CLose\n",
    "img=cv.imread('abc.jpg')\n",
    "t,img=cv.threshold(img,127,255,cv.THRESH_BINARY)\n",
    "SE=np.array([[255,255,255],[255,255,255],[255,255,255]])\n",
    "new_img=dil(img,SE)\n",
    "eros=erosion(new_img,SE)"
   ]
  },
  {
   "cell_type": "code",
   "execution_count": 26,
   "id": "6b05de74",
   "metadata": {},
   "outputs": [
    {
     "data": {
      "text/plain": [
       "-1"
      ]
     },
     "execution_count": 26,
     "metadata": {},
     "output_type": "execute_result"
    }
   ],
   "source": [
    "con1=np.concatenate((new_img,eros),axis=1)\n",
    "cv.imshow(\"close\",con1)\n",
    "cv.waitKey(0)"
   ]
  },
  {
   "cell_type": "code",
   "execution_count": 29,
   "id": "9f0c15f1",
   "metadata": {},
   "outputs": [],
   "source": [
    "#Open\n",
    "img=cv.imread('abc.jpg')\n",
    "t,img=cv.threshold(img,127,255,cv.THRESH_BINARY)\n",
    "SE=np.array([[255,255,255],[255,255,255],[255,255,255]])\n",
    "new_img=erosion(img,SE)\n",
    "dilation=dil(new_img,SE)"
   ]
  },
  {
   "cell_type": "code",
   "execution_count": 30,
   "id": "8b2bd716",
   "metadata": {},
   "outputs": [
    {
     "data": {
      "text/plain": [
       "-1"
      ]
     },
     "execution_count": 30,
     "metadata": {},
     "output_type": "execute_result"
    }
   ],
   "source": [
    "con2=np.concatenate((new_img,eros),axis=1)\n",
    "cv.imshow(\"open\",con2)\n",
    "cv.waitKey(0)"
   ]
  },
  {
   "cell_type": "code",
   "execution_count": null,
   "id": "5f2d4bd3",
   "metadata": {},
   "outputs": [],
   "source": []
  }
 ],
 "metadata": {
  "kernelspec": {
   "display_name": "Python 3 (ipykernel)",
   "language": "python",
   "name": "python3"
  },
  "language_info": {
   "codemirror_mode": {
    "name": "ipython",
    "version": 3
   },
   "file_extension": ".py",
   "mimetype": "text/x-python",
   "name": "python",
   "nbconvert_exporter": "python",
   "pygments_lexer": "ipython3",
   "version": "3.9.13"
  }
 },
 "nbformat": 4,
 "nbformat_minor": 5
}
