{
 "cells": [
  {
   "cell_type": "code",
   "execution_count": 1,
   "id": "9d877e12",
   "metadata": {},
   "outputs": [],
   "source": [
    "import cv2\n",
    "import numpy as np"
   ]
  },
  {
   "cell_type": "code",
   "execution_count": 2,
   "id": "14d71a3f",
   "metadata": {},
   "outputs": [],
   "source": [
    "image = cv2.imread('abc.jpg')"
   ]
  },
  {
   "cell_type": "code",
   "execution_count": 3,
   "id": "1011eeb2",
   "metadata": {},
   "outputs": [],
   "source": [
    "identity_kernal=np.array([[0, 0, 0],\n",
    "                    [0, 1, 0],\n",
    "                    [0, 0, 0]])\n",
    "edge_detection_kernel=np.array([[-1, -1, -1],\n",
    "                    [-1, 8, -1],\n",
    "                    [-1, -1, -1]])\n",
    "sharpen_kernal=np.array([[0, -1, 0],\n",
    "                    [-1, 5, -1],\n",
    "                    [0, -1, 0]])\n",
    "boxblur_kernal=np.array([[1, 1, 1],\n",
    "                    [1, 1, 1],\n",
    "                    [1, 1, 1]])/9\n",
    "gaussianblur_kernal=np.array([[1, 4, 1],\n",
    "                                [4, 16, 4],\n",
    "                                [1, 4, 1]])/256"
   ]
  },
  {
   "cell_type": "code",
   "execution_count": null,
   "id": "d819cbe8",
   "metadata": {},
   "outputs": [],
   "source": [
    "kernel = identity_kernal\n",
    "  \n",
    "img = cv2.filter2D(src=image, ddepth=-1, kernel=kernel)\n",
    "  \n",
    "# Shoeing the original and output image\n",
    "cv2.imshow('Original', image)\n",
    "cv2.imshow('Kernel identity', img)\n",
    "  \n",
    "cv2.waitKey()\n",
    "cv2.destroyAllWindows()"
   ]
  },
  {
   "cell_type": "code",
   "execution_count": 5,
   "id": "922df41c",
   "metadata": {},
   "outputs": [],
   "source": [
    "kernel = edge_detection_kernel\n",
    "  \n",
    "img = cv2.filter2D(src=image, ddepth=-1, kernel=kernel)\n",
    "  \n",
    "# Shoeing the original and output image\n",
    "cv2.imshow('Original', image)\n",
    "cv2.imshow('Kernel Blur', img)\n",
    "  \n",
    "cv2.waitKey()\n",
    "cv2.destroyAllWindows()"
   ]
  },
  {
   "cell_type": "code",
   "execution_count": 6,
   "id": "b2ffcb96",
   "metadata": {},
   "outputs": [],
   "source": [
    "kernel = sharpen_kernal\n",
    "  \n",
    "img = cv2.filter2D(src=image, ddepth=-1, kernel=kernel)\n",
    "  \n",
    "# Shoeing the original and output image\n",
    "cv2.imshow('Original', image)\n",
    "cv2.imshow('sharpen_kernal', img)\n",
    "  \n",
    "cv2.waitKey()\n",
    "cv2.destroyAllWindows()"
   ]
  },
  {
   "cell_type": "code",
   "execution_count": 7,
   "id": "bc549792",
   "metadata": {},
   "outputs": [],
   "source": [
    "kernel = boxblur_kernal\n",
    "  \n",
    "img = cv2.filter2D(src=image, ddepth=-1, kernel=kernel)\n",
    "  \n",
    "# Shoeing the original and output image\n",
    "cv2.imshow('Original', image)\n",
    "cv2.imshow('boxblur_kernal', img)\n",
    "  \n",
    "cv2.waitKey()\n",
    "cv2.destroyAllWindows()"
   ]
  },
  {
   "cell_type": "code",
   "execution_count": 8,
   "id": "d289fb51",
   "metadata": {},
   "outputs": [],
   "source": [
    "kernel =gaussianblur_kernal\n",
    "  \n",
    "img = cv2.filter2D(src=image, ddepth=-1, kernel=kernel)\n",
    "  \n",
    "# Shoeing the original and output image\n",
    "cv2.imshow('Original', image)\n",
    "cv2.imshow('gaussianblur_kernal', img)\n",
    "  \n",
    "cv2.waitKey()\n",
    "cv2.destroyAllWindows()"
   ]
  }
 ],
 "metadata": {
  "kernelspec": {
   "display_name": "Python 3 (ipykernel)",
   "language": "python",
   "name": "python3"
  },
  "language_info": {
   "codemirror_mode": {
    "name": "ipython",
    "version": 3
   },
   "file_extension": ".py",
   "mimetype": "text/x-python",
   "name": "python",
   "nbconvert_exporter": "python",
   "pygments_lexer": "ipython3",
   "version": "3.9.13"
  }
 },
 "nbformat": 4,
 "nbformat_minor": 5
}
