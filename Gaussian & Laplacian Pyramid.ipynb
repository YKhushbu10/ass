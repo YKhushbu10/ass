{
 "cells": [
  {
   "cell_type": "code",
   "execution_count": 1,
   "id": "4954b5ef",
   "metadata": {},
   "outputs": [],
   "source": [
    "import cv2"
   ]
  },
  {
   "cell_type": "code",
   "execution_count": 4,
   "id": "3ac73620",
   "metadata": {},
   "outputs": [],
   "source": [
    "def img_upsample(img,count=3):\n",
    "    layers=[img.copy()]\n",
    "    for i in range(count):\n",
    "        img=cv2.pyrUp(img)\n",
    "        layers.append(img)\n",
    "    return layers"
   ]
  },
  {
   "cell_type": "code",
   "execution_count": 5,
   "id": "fd69d8ff",
   "metadata": {},
   "outputs": [],
   "source": [
    "img=cv2.imread('xyz.jpg')\n",
    "imgUp_layers=img_upsample(img)\n",
    "for i,raw_img in enumerate(imgUp_layers):\n",
    "    cv2.imshow(f\"img-{i}\",raw_img)\n",
    "    cv2.waitKey(0)\n",
    "    cv2.destroyAllWindows()"
   ]
  },
  {
   "cell_type": "code",
   "execution_count": 6,
   "id": "0aab5072",
   "metadata": {},
   "outputs": [],
   "source": [
    "def img_downsample(img,count=3):\n",
    "    layers=[img.copy()]\n",
    "    for i in range(count):\n",
    "        img=cv2.pyrDown(img)\n",
    "        layers.append(img)\n",
    "    return layers"
   ]
  },
  {
   "cell_type": "code",
   "execution_count": 7,
   "id": "16ee04cb",
   "metadata": {},
   "outputs": [],
   "source": [
    "img=cv2.imread('xyz.jpg')\n",
    "imgDown_layers=img_downsample(img)\n",
    "for i,raw_img in enumerate(imgDown_layers):\n",
    "    cv2.imshow(f\"img-{i}\",raw_img)\n",
    "    cv2.waitKey(0)\n",
    "    cv2.destroyAllWindows()"
   ]
  },
  {
   "cell_type": "code",
   "execution_count": null,
   "id": "c90a57b8",
   "metadata": {},
   "outputs": [],
   "source": []
  }
 ],
 "metadata": {
  "kernelspec": {
   "display_name": "Python 3 (ipykernel)",
   "language": "python",
   "name": "python3"
  },
  "language_info": {
   "codemirror_mode": {
    "name": "ipython",
    "version": 3
   },
   "file_extension": ".py",
   "mimetype": "text/x-python",
   "name": "python",
   "nbconvert_exporter": "python",
   "pygments_lexer": "ipython3",
   "version": "3.9.13"
  }
 },
 "nbformat": 4,
 "nbformat_minor": 5
}
