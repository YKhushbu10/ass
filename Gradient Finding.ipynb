{
 "cells": [
  {
   "cell_type": "code",
   "execution_count": 1,
   "id": "6baf8550",
   "metadata": {},
   "outputs": [],
   "source": [
    "import cv2\n",
    "import numpy as np"
   ]
  },
  {
   "cell_type": "code",
   "execution_count": 4,
   "id": "e2b6bef3",
   "metadata": {},
   "outputs": [
    {
     "data": {
      "text/plain": [
       "-1"
      ]
     },
     "execution_count": 4,
     "metadata": {},
     "output_type": "execute_result"
    }
   ],
   "source": [
    "img=cv2.imread('abc.jpg',0)\n",
    "cv2.imshow(\"original\",img)\n",
    "img=cv2.resize(img,(500,500))\n",
    "kernel_Gx=np.array([[-1,-2,-1],[0,0,0],[1,2,1]])\n",
    "kernel_Gy=np.array([[-1,0,-1],[-2,0,2],[-1,0,1]])\n",
    "Gx=cv2.filter2D(img.copy(),-1,kernel_Gx)\n",
    "Gy=cv2.filter2D(img.copy(),-1,kernel_Gy)\n",
    "merge=cv2.add(Gx,Gy)\n",
    "cv2.imshow('Gx',Gx)\n",
    "cv2.imshow('Gy',Gy)\n",
    "cv2.imshow('merge',merge)\n",
    "cv2.waitKey(0)"
   ]
  },
  {
   "cell_type": "code",
   "execution_count": 7,
   "id": "c914c2a9",
   "metadata": {},
   "outputs": [
    {
     "data": {
      "text/plain": [
       "-1"
      ]
     },
     "execution_count": 7,
     "metadata": {},
     "output_type": "execute_result"
    }
   ],
   "source": [
    "img=cv2.imread('abc.jpg',0)\n",
    "s=cv2.Sobel(img.copy(),-1,0,1)\n",
    "cv2.imshow(\"original\",img)\n",
    "cv2.imshow(\"vertic\",s)\n",
    "cv2.waitKey(0)"
   ]
  },
  {
   "cell_type": "code",
   "execution_count": 11,
   "id": "c6c87c69",
   "metadata": {},
   "outputs": [
    {
     "data": {
      "text/plain": [
       "-1"
      ]
     },
     "execution_count": 11,
     "metadata": {},
     "output_type": "execute_result"
    }
   ],
   "source": [
    "img=cv2.imread('abc.jpg',0)\n",
    "s=cv2.Sobel(img.copy(),-1,1,0)\n",
    "cv2.imshow(\"original\",img)\n",
    "cv2.imshow(\"vertic\",s)\n",
    "cv2.waitKey(0)"
   ]
  },
  {
   "cell_type": "code",
   "execution_count": null,
   "id": "37b8030d",
   "metadata": {},
   "outputs": [],
   "source": []
  }
 ],
 "metadata": {
  "kernelspec": {
   "display_name": "Python 3 (ipykernel)",
   "language": "python",
   "name": "python3"
  },
  "language_info": {
   "codemirror_mode": {
    "name": "ipython",
    "version": 3
   },
   "file_extension": ".py",
   "mimetype": "text/x-python",
   "name": "python",
   "nbconvert_exporter": "python",
   "pygments_lexer": "ipython3",
   "version": "3.9.13"
  }
 },
 "nbformat": 4,
 "nbformat_minor": 5
}
